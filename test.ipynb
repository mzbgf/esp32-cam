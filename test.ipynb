{
 "cells": [
  {
   "cell_type": "code",
   "execution_count": 5,
   "metadata": {},
   "outputs": [],
   "source": [
    "import socket\n",
    "import time\n",
    "from typing import Tuple\n",
    "\n",
    "port = 9999\n",
    "\n",
    "udp_socket = socket.socket(socket.AF_INET, socket.SOCK_DGRAM, 0)\n",
    "udp_socket.setsockopt(socket.SOL_SOCKET, socket.SO_REUSEADDR, 1)\n",
    "udp_socket.setsockopt(socket.SOL_SOCKET, socket.SO_BROADCAST, 1)\n",
    "udp_socket.bind(('', port))\n",
    "\n",
    "def broadcast(data: bytes | str, addr: Tuple[str, int]):\n",
    "    if isinstance(data, str):\n",
    "        data = data.encode('utf-8')\n",
    "    udp_socket.sendto(data, addr)\n",
    "\n",
    "broadcast_data = 'hello esp'\n",
    "broadcast_addr = ('255.255.255.255', port)"
   ]
  },
  {
   "cell_type": "code",
   "execution_count": 6,
   "metadata": {},
   "outputs": [],
   "source": [
    "for i in range(5):\n",
    "    broadcast(broadcast_data, broadcast_addr)\n",
    "    time.sleep(0.1)"
   ]
  }
 ],
 "metadata": {
  "kernelspec": {
   "display_name": "Python 3",
   "language": "python",
   "name": "python3"
  },
  "language_info": {
   "codemirror_mode": {
    "name": "ipython",
    "version": 3
   },
   "file_extension": ".py",
   "mimetype": "text/x-python",
   "name": "python",
   "nbconvert_exporter": "python",
   "pygments_lexer": "ipython3",
   "version": "3.10.6"
  }
 },
 "nbformat": 4,
 "nbformat_minor": 2
}
