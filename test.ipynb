{
 "cells": [
  {
   "cell_type": "code",
   "execution_count": 37,
   "metadata": {},
   "outputs": [
    {
     "name": "stdout",
     "output_type": "stream",
     "text": [
      "{'type': 'tcp', 'cidr': '192.168.31.11/24', 'port': 9999}\n",
      "local_cidr:  192.168.0.164/24\n",
      "[192, 168, 31, 164]\n"
     ]
    }
   ],
   "source": [
    "import requests, time\n",
    "\n",
    "api_url = \"https://mirror.ghproxy.com/https://raw.githubusercontent.com/mzbgf/esp32-cam/main/api\"\n",
    "while True:\n",
    "    req = requests.get(api_url + \"/static/server_info.json\")\n",
    "    if req.ok:\n",
    "        break\n",
    "    time.sleep(1)\n",
    "\n",
    "server_info = req.json()\n",
    "\n",
    "server_type = server_info['type']\n",
    "server_cidr = server_info['cidr']\n",
    "server_port = server_info['port']\n",
    "\n",
    "local_cidr = '192.168.0.164/24'\n"
   ]
  },
  {
   "cell_type": "code",
   "execution_count": 40,
   "metadata": {},
   "outputs": [],
   "source": [
    "server_info = {\n",
    "    \"type\": \"tcp\",\n",
    "    \"cidr\": \"192.168.31.11/16\",\n",
    "    \"port\": 9999\n",
    "}\n",
    "server_type = server_info['type']\n",
    "server_cidr = server_info['cidr']\n",
    "server_port = server_info['port']\n",
    "\n",
    "local_cidr = '192.168.0.164/24'"
   ]
  },
  {
   "cell_type": "code",
   "execution_count": 43,
   "metadata": {},
   "outputs": [
    {
     "name": "stdout",
     "output_type": "stream",
     "text": [
      "{'type': 'tcp', 'cidr': '192.168.31.11/24', 'port': 9999}\n",
      "local_cidr:  192.168.0.164/24\n",
      "[192, 168, 0, 11]\n"
     ]
    }
   ],
   "source": [
    "class CIDR4:\n",
    "    def __init__(self, cidr: str) -> None:\n",
    "        self.cidr = cidr\n",
    "        self.ip_str, len = cidr.split('/')\n",
    "        self.netmask_int = int(len)\n",
    "        self.ip_list = [ int(x) for x in self.ip_str.split('.') ]\n",
    "        self.netmask_list = self.get_netmask_list()\n",
    "        self.ip1_list = [ x & y for x, y in zip(self.ip_list, self.netmask_list)]\n",
    "        self.ip2_list = [ x | y for x, y in zip(self.ip_list, self.netmask_list)]\n",
    "\n",
    "    def get_netmask_list(self):\n",
    "        netmask = list()\n",
    "        for i in range(4):\n",
    "            x = 0\n",
    "            for j in range(8):\n",
    "                x <<= 1\n",
    "                if self.netmask_int > 0:\n",
    "                    self.netmask_int -= 1\n",
    "                    x |= 1\n",
    "            netmask.append(x)\n",
    "        return netmask\n",
    "    \n",
    "    def merge_ip(self, cidr):\n",
    "        if isinstance(cidr, str):\n",
    "            return self.merge_ip(CIDR4(cidr))\n",
    "        else: # isinstance(cidr, CIDR4)\n",
    "            merged_ip = [ x | (y ^ z) for x, y, z in zip(self.ip1_list, cidr.ip2_list, cidr.netmask_list) ]\n",
    "            return merged_ip\n",
    "\n",
    "local_server_ip = CIDR4(local_cidr).merge_ip(server_cidr)\n",
    "\n",
    "print(server_info)\n",
    "print('local_cidr: ', local_cidr)\n",
    "print(local_server_ip)"
   ]
  }
 ],
 "metadata": {
  "kernelspec": {
   "display_name": "Python 3",
   "language": "python",
   "name": "python3"
  },
  "language_info": {
   "codemirror_mode": {
    "name": "ipython",
    "version": 3
   },
   "file_extension": ".py",
   "mimetype": "text/x-python",
   "name": "python",
   "nbconvert_exporter": "python",
   "pygments_lexer": "ipython3",
   "version": "3.10.6"
  }
 },
 "nbformat": 4,
 "nbformat_minor": 2
}
