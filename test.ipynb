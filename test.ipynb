{
 "cells": [
  {
   "cell_type": "code",
   "execution_count": 32,
   "metadata": {},
   "outputs": [
    {
     "name": "stdout",
     "output_type": "stream",
     "text": [
      "[192, 168, 0, 0] [255, 255, 255, 1] [255, 255, 255, 0] [192, 168, 0, 1]\n"
     ]
    }
   ],
   "source": [
    "def get_netmask_4(length = 0):\n",
    "    netmask = list()\n",
    "    for i in range(4):\n",
    "        x = 0\n",
    "        for j in range(8):\n",
    "            x <<= 1\n",
    "            if length > 0:\n",
    "                length -= 1\n",
    "                x |= 1\n",
    "        netmask.append(x)\n",
    "    return netmask\n",
    "\n",
    "cidr = '192.168.0.1/24'\n",
    "\n",
    "ip, length = cidr.split('/')\n",
    "ip = [ int(x) for x in ip.split('.') ]\n",
    "length = int(length)\n",
    "\n",
    "netmask = get_netmask_4(length)\n",
    "ip1 = [ x & y for x, y in zip(ip, netmask) ]\n",
    "ip2 = [ x | y for x, y in zip(ip, netmask) ]\n",
    "ip = [ x | y ^ z for x, y, z in zip(ip1, ip2, netmask) ]\n",
    "print(ip1, ip2, netmask, ip)"
   ]
  }
 ],
 "metadata": {
  "kernelspec": {
   "display_name": "Python 3",
   "language": "python",
   "name": "python3"
  },
  "language_info": {
   "codemirror_mode": {
    "name": "ipython",
    "version": 3
   },
   "file_extension": ".py",
   "mimetype": "text/x-python",
   "name": "python",
   "nbconvert_exporter": "python",
   "pygments_lexer": "ipython3",
   "version": "3.10.6"
  }
 },
 "nbformat": 4,
 "nbformat_minor": 2
}
