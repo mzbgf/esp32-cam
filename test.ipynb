{
 "cells": [
  {
   "cell_type": "code",
   "execution_count": 1,
   "metadata": {},
   "outputs": [
    {
     "name": "stdout",
     "output_type": "stream",
     "text": [
      "{'type': 'tcp', 'cidr': '192.168.31.11/255.255.255.0', 'port': 9999}\n"
     ]
    }
   ],
   "source": [
    "import requests\n",
    "import socket\n",
    "import time\n",
    "\n",
    "if not locals().get('camera'): camera = None\n",
    "\n",
    "class CIDR4:\n",
    "    def __init__(self, cidr: str) -> None:\n",
    "        self.cidr = cidr\n",
    "        self.ip_str, netmask = cidr.split('/')\n",
    "        try:\n",
    "            netmask_int = int(netmask)\n",
    "            self.netmask_list = self.get_netmask(netmask_int)\n",
    "        except ValueError as e:\n",
    "            self.netmask_list = [ int(x) for x in netmask.split('.') ]\n",
    "        self.ip_list = [ int(x) for x in self.ip_str.split('.') ]\n",
    "        self.ip1_list = [ x & y for x, y in zip(self.ip_list, self.netmask_list)]\n",
    "        self.ip2_list = [ x | y for x, y in zip(self.ip_list, self.netmask_list)]\n",
    "\n",
    "    def get_netmask(self, netmask_int = 0) -> list:\n",
    "        netmask_list = list()\n",
    "        for i in range(4):\n",
    "            x = 0\n",
    "            for j in range(8):\n",
    "                x <<= 1\n",
    "                if netmask_int > 0:\n",
    "                    netmask_int -= 1\n",
    "                    x |= 1\n",
    "            netmask_list.append(x)\n",
    "        return netmask_list\n",
    "    \n",
    "    def merge_ip(self, cidr) -> str:\n",
    "        if isinstance(cidr, str):\n",
    "            return self.merge_ip(CIDR4(cidr))\n",
    "        else: # isinstance(cidr, CIDR4)\n",
    "            merged_ip_str_list = [ str(x | y ^ z) for x, y, z in zip(self.ip1_list, cidr.ip2_list, cidr.netmask_list) ]\n",
    "            merged_ip_str = '.'.join(merged_ip_str_list)\n",
    "            return merged_ip_str\n",
    "\n",
    "api_url = \"https://mirror.ghproxy.com/https://raw.githubusercontent.com/mzbgf/esp32-cam/main/api\"\n",
    "local_cidr = '192.168.0.164/24'\n",
    "\n",
    "def get_server():\n",
    "    request_times = 0\n",
    "    while request_times < 3:\n",
    "        req = requests.get(url=api_url + \"/static/server_info.json\", timeout=5)\n",
    "        if req.ok:\n",
    "            break\n",
    "    return req.json()\n",
    "\n",
    "# server_info = get_server()\n",
    "server_info = {'type': 'tcp', 'cidr': '192.168.31.11/255.255.255.0', 'port': 9999}\n",
    "\n",
    "print(server_info)"
   ]
  },
  {
   "cell_type": "code",
   "execution_count": 2,
   "metadata": {},
   "outputs": [
    {
     "name": "stdout",
     "output_type": "stream",
     "text": [
      "('192.168.0.11', 9999)\n"
     ]
    }
   ],
   "source": [
    "server_type = server_info['type']\n",
    "server_cidr = server_info['cidr']\n",
    "server_port = server_info['port']\n",
    "\n",
    "local_server_ip = CIDR4(local_cidr).merge_ip(server_cidr)\n",
    "server_addr = (local_server_ip, server_port)\n",
    "print(server_addr)"
   ]
  }
 ],
 "metadata": {
  "kernelspec": {
   "display_name": "Python 3",
   "language": "python",
   "name": "python3"
  },
  "language_info": {
   "codemirror_mode": {
    "name": "ipython",
    "version": 3
   },
   "file_extension": ".py",
   "mimetype": "text/x-python",
   "name": "python",
   "nbconvert_exporter": "python",
   "pygments_lexer": "ipython3",
   "version": "3.10.6"
  }
 },
 "nbformat": 4,
 "nbformat_minor": 2
}
